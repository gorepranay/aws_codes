{
 "cells": [
  {
   "cell_type": "code",
   "execution_count": null,
   "metadata": {},
   "outputs": [],
   "source": [
    "import sys\n",
    "from awsglue.transforms import *\n",
    "from awsglue.utils import getResolvedOptions\n",
    "from pyspark.context import SparkContext\n",
    "from awsglue.context import GlueContext\n",
    "from awsglue.job import Job\n",
    "import pyspark.sql.functions as f\n",
    "from awsglue.dynamicframe import DynamicFrame\n",
    "\n",
    "## @params: [JOB_NAME]\n",
    "args = getResolvedOptions(sys.argv, ['JOB_NAME'])\n",
    "\n",
    "sc = SparkContext()\n",
    "glueContext = GlueContext(sc)\n",
    "spark = glueContext.spark_session\n",
    "job = Job(glueContext)\n",
    "job.init(args['JOB_NAME'], args)\n",
    "\n",
    "catalog_db=\"emea_catalog\"\n",
    "catalog_table_name = \"accidental_drug_related_deaths_2019_csv\"\n",
    "\n",
    "datasource = glueContext.create_dynamic_frame.from_catalog(database = catalog_db, table_name = catalog_table_name)\n",
    "\n",
    "data_frame = datasource.toDF()\n",
    "data_frame=data_frame.filter((f.col('Age')>30)).filter((f.col('Location')=='Residence')).filter((f.col('ResidenceState')=='NY'))\n",
    "\n",
    "print(data_frame.show())\n",
    "print(\"JOB COMPLETED SUCCESSFULLY\")"
   ]
  }
 ],
 "metadata": {
  "kernelspec": {
   "display_name": "Python 3",
   "language": "python",
   "name": "python3"
  },
  "language_info": {
   "codemirror_mode": {
    "name": "ipython",
    "version": 3
   },
   "file_extension": ".py",
   "mimetype": "text/x-python",
   "name": "python",
   "nbconvert_exporter": "python",
   "pygments_lexer": "ipython3",
   "version": "3.7.3"
  }
 },
 "nbformat": 4,
 "nbformat_minor": 2
}
