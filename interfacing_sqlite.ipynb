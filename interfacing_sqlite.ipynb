{
 "cells": [
  {
   "cell_type": "code",
   "execution_count": 1,
   "metadata": {},
   "outputs": [],
   "source": [
    "#Load the magic %load_ext sql\n",
    "%load_ext sql"
   ]
  },
  {
   "cell_type": "code",
   "execution_count": 2,
   "metadata": {},
   "outputs": [
    {
     "data": {
      "text/plain": [
       "'Connected: @None'"
      ]
     },
     "execution_count": 2,
     "metadata": {},
     "output_type": "execute_result"
    }
   ],
   "source": [
    "# connect sqlite. the below command is like a Sqlite engine terminal.\n",
    "%sql sqlite://"
   ]
  },
  {
   "cell_type": "code",
   "execution_count": 3,
   "metadata": {},
   "outputs": [
    {
     "name": "stdout",
     "output_type": "stream",
     "text": [
      " * sqlite://\n",
      "Done.\n"
     ]
    },
    {
     "data": {
      "text/plain": [
       "[]"
      ]
     },
     "execution_count": 3,
     "metadata": {},
     "output_type": "execute_result"
    }
   ],
   "source": [
    "# Connection is done. We will create a table called 'contacts'.\n",
    "%%sql CREATE TABLE contacts(\n",
    "    contact_id INTEGER PRIMARY KEY,\n",
    "    first_name TEXT NOT NULL,\n",
    "    last_name TEXT NOT NULL,\n",
    "    email TEXT NOT NULL UNIQUE,\n",
    "    phone INTEGER NOT NULL UNIQUE\n",
    ");"
   ]
  },
  {
   "cell_type": "code",
   "execution_count": 4,
   "metadata": {},
   "outputs": [
    {
     "name": "stdout",
     "output_type": "stream",
     "text": [
      " * sqlite://\n",
      "1 rows affected.\n",
      " * sqlite://\n",
      "1 rows affected.\n",
      " * sqlite://\n",
      "1 rows affected.\n"
     ]
    },
    {
     "data": {
      "text/plain": [
       "[]"
      ]
     },
     "execution_count": 4,
     "metadata": {},
     "output_type": "execute_result"
    }
   ],
   "source": [
    "# Insert few rows in the table 'contacts'\n",
    "%sql INSERT INTO contacts VALUES(100,'Donald','Duck','donaldo@aol.com', 123456);\n",
    "%sql INSERT INTO contacts VALUES(102,'Black','Panther','panther@yahoo.com', 987654);\n",
    "%sql INSERT INTO contacts VALUES(104,'Bat','Man','batty@dark.com', 211002);"
   ]
  },
  {
   "cell_type": "code",
   "execution_count": 5,
   "metadata": {},
   "outputs": [
    {
     "name": "stdout",
     "output_type": "stream",
     "text": [
      " * sqlite://\n",
      "Done.\n"
     ]
    },
    {
     "data": {
      "text/html": [
       "<table>\n",
       "    <tr>\n",
       "        <th>contact_id</th>\n",
       "        <th>first_name</th>\n",
       "        <th>last_name</th>\n",
       "        <th>email</th>\n",
       "        <th>phone</th>\n",
       "    </tr>\n",
       "    <tr>\n",
       "        <td>100</td>\n",
       "        <td>Donald</td>\n",
       "        <td>Duck</td>\n",
       "        <td>donaldo@aol.com</td>\n",
       "        <td>123456</td>\n",
       "    </tr>\n",
       "    <tr>\n",
       "        <td>102</td>\n",
       "        <td>Black</td>\n",
       "        <td>Panther</td>\n",
       "        <td>panther@yahoo.com</td>\n",
       "        <td>987654</td>\n",
       "    </tr>\n",
       "    <tr>\n",
       "        <td>104</td>\n",
       "        <td>Bat</td>\n",
       "        <td>Man</td>\n",
       "        <td>batty@dark.com</td>\n",
       "        <td>211002</td>\n",
       "    </tr>\n",
       "</table>"
      ],
      "text/plain": [
       "[(100, 'Donald', 'Duck', 'donaldo@aol.com', 123456),\n",
       " (102, 'Black', 'Panther', 'panther@yahoo.com', 987654),\n",
       " (104, 'Bat', 'Man', 'batty@dark.com', 211002)]"
      ]
     },
     "execution_count": 5,
     "metadata": {},
     "output_type": "execute_result"
    }
   ],
   "source": [
    "#Let us print all the rows in the table.\n",
    "%sql SELECT * FROM contacts;"
   ]
  },
  {
   "cell_type": "code",
   "execution_count": 12,
   "metadata": {},
   "outputs": [
    {
     "name": "stdout",
     "output_type": "stream",
     "text": [
      " * sqlite://\n",
      "Done.\n",
      "Dataframe object type: <class 'pandas.core.frame.DataFrame'>\n",
      "     0       1        2                  3       4\n",
      "0  100  Donald     Duck    donaldo@aol.com  123456\n",
      "1  102   Black  Panther  panther@yahoo.com  987654\n",
      "2  104     Bat      Man     batty@dark.com  211002\n"
     ]
    }
   ],
   "source": [
    "# We will read the sql data into Python dataframe object.\n",
    "import pandas as pd\n",
    "\n",
    "output = %sql SELECT * from contacts;\n",
    "df=pd.DataFrame(output)\n",
    "print(\"Dataframe object type:\",type(df))\n",
    "print(df)"
   ]
  },
  {
   "cell_type": "code",
   "execution_count": null,
   "metadata": {},
   "outputs": [],
   "source": []
  }
 ],
 "metadata": {
  "kernelspec": {
   "display_name": "Python 3",
   "language": "python",
   "name": "python3"
  },
  "language_info": {
   "codemirror_mode": {
    "name": "ipython",
    "version": 3
   },
   "file_extension": ".py",
   "mimetype": "text/x-python",
   "name": "python",
   "nbconvert_exporter": "python",
   "pygments_lexer": "ipython3",
   "version": "3.7.3"
  }
 },
 "nbformat": 4,
 "nbformat_minor": 2
}
